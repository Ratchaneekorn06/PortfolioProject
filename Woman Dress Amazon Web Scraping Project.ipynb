{
 "cells": [
  {
   "attachments": {},
   "cell_type": "markdown",
   "metadata": {},
   "source": [
    "# Woman Dress Amazon Web Scraping Project"
   ]
  },
  {
   "cell_type": "code",
   "execution_count": 1,
   "metadata": {},
   "outputs": [
    {
     "name": "stdout",
     "output_type": "stream",
     "text": [
      "Requirement already satisfied: selenium in c:\\users\\user\\anaconda3\\lib\\site-packages (4.8.0)\n",
      "Requirement already satisfied: urllib3[socks]~=1.26 in c:\\users\\user\\anaconda3\\lib\\site-packages (from selenium) (1.26.14)\n",
      "Requirement already satisfied: trio~=0.17 in c:\\users\\user\\anaconda3\\lib\\site-packages (from selenium) (0.22.0)\n",
      "Requirement already satisfied: certifi>=2021.10.8 in c:\\users\\user\\anaconda3\\lib\\site-packages (from selenium) (2022.12.7)\n",
      "Requirement already satisfied: trio-websocket~=0.9 in c:\\users\\user\\anaconda3\\lib\\site-packages (from selenium) (0.9.2)\n",
      "Requirement already satisfied: PySocks!=1.5.7,<2.0,>=1.5.6; extra == \"socks\" in c:\\users\\user\\anaconda3\\lib\\site-packages (from urllib3[socks]~=1.26->selenium) (1.7.1)\n",
      "Requirement already satisfied: cffi>=1.14; os_name == \"nt\" and implementation_name != \"pypy\" in c:\\users\\user\\anaconda3\\lib\\site-packages (from trio~=0.17->selenium) (1.14.3)\n",
      "Requirement already satisfied: attrs>=19.2.0 in c:\\users\\user\\anaconda3\\lib\\site-packages (from trio~=0.17->selenium) (20.3.0)\n",
      "Requirement already satisfied: idna in c:\\users\\user\\anaconda3\\lib\\site-packages (from trio~=0.17->selenium) (2.10)\n",
      "Requirement already satisfied: async-generator>=1.9 in c:\\users\\user\\anaconda3\\lib\\site-packages (from trio~=0.17->selenium) (1.10)\n",
      "Requirement already satisfied: exceptiongroup>=1.0.0rc9; python_version < \"3.11\" in c:\\users\\user\\anaconda3\\lib\\site-packages (from trio~=0.17->selenium) (1.1.0)\n",
      "Requirement already satisfied: sortedcontainers in c:\\users\\user\\anaconda3\\lib\\site-packages (from trio~=0.17->selenium) (2.2.2)\n",
      "Requirement already satisfied: sniffio in c:\\users\\user\\anaconda3\\lib\\site-packages (from trio~=0.17->selenium) (1.3.0)\n",
      "Requirement already satisfied: outcome in c:\\users\\user\\anaconda3\\lib\\site-packages (from trio~=0.17->selenium) (1.2.0)\n",
      "Requirement already satisfied: wsproto>=0.14 in c:\\users\\user\\anaconda3\\lib\\site-packages (from trio-websocket~=0.9->selenium) (1.2.0)\n",
      "Requirement already satisfied: pycparser in c:\\users\\user\\anaconda3\\lib\\site-packages (from cffi>=1.14; os_name == \"nt\" and implementation_name != \"pypy\"->trio~=0.17->selenium) (2.20)\n",
      "Requirement already satisfied: h11<1,>=0.9.0 in c:\\users\\user\\anaconda3\\lib\\site-packages (from wsproto>=0.14->trio-websocket~=0.9->selenium) (0.14.0)\n"
     ]
    }
   ],
   "source": [
    "!pip install selenium"
   ]
  },
  {
   "cell_type": "code",
   "execution_count": 2,
   "metadata": {},
   "outputs": [],
   "source": [
    "from selenium import webdriver"
   ]
  },
  {
   "cell_type": "markdown",
   "metadata": {},
   "source": [
    "webdriver.Chrome ใช้ในการเปิด google chrome"
   ]
  },
  {
   "cell_type": "code",
   "execution_count": 3,
   "metadata": {},
   "outputs": [
    {
     "name": "stderr",
     "output_type": "stream",
     "text": [
      "<ipython-input-3-a3a955e4ef4f>:1: DeprecationWarning: executable_path has been deprecated, please pass in a Service object\n",
      "  driver = webdriver.Chrome(executable_path=r'C:\\Users\\User\\Desktop\\webscraper project\\chromedriver')\n"
     ]
    }
   ],
   "source": [
    "driver = webdriver.Chrome(executable_path=r'C:\\Users\\User\\Desktop\\webscraper project\\chromedriver')"
   ]
  },
  {
   "cell_type": "markdown",
   "metadata": {},
   "source": [
    ".get() ใช้ในการเปิดเว็บไซต์"
   ]
  },
  {
   "cell_type": "code",
   "execution_count": 4,
   "metadata": {},
   "outputs": [],
   "source": [
    "driver.get('https://www.amazon.com/')"
   ]
  },
  {
   "cell_type": "markdown",
   "metadata": {},
   "source": [
    ".find_element(\"xpath\", ' ') ใช้ในการหาตำแหน่งที่เราสนใจในเว็บไซต์ เช่น ในที่นี้เราอยากกรอกข้อมูลเพื่อค้นหาสินค้าใน amazon เราจึงต้องเข้าไปดู html code เพื่อหาตำแหน่งของช่องว่างที่ให้เรากรอกข้อมูลเพื่อค้นหาสินค้า ซึ่งจะได้ตาม code ด้านล่างเป็นดังนี้ (ถ้าหากเจอ shadow root คำสั่งนี้ไม่สามารถใช้ได้ จำเป็นต้องใช้ .execute_script เพื่อใช้ระบุตำแหน่งแทน) "
   ]
  },
  {
   "cell_type": "code",
   "execution_count": 5,
   "metadata": {},
   "outputs": [],
   "source": [
    "option = driver.find_element(\"xpath\", '/html/body/div[1]/div[2]/div[2]/div[1]/div[6]/div')"
   ]
  },
  {
   "cell_type": "markdown",
   "metadata": {},
   "source": [
    ".click() ใช้ในการสั่ง click เว็บไซต์"
   ]
  },
  {
   "cell_type": "code",
   "execution_count": 6,
   "metadata": {},
   "outputs": [],
   "source": [
    "option.click()"
   ]
  },
  {
   "cell_type": "markdown",
   "metadata": {},
   "source": [
    "ต่อมาเราจะทำการเรียก script เพื่อใช้ในการย่อขนาดของหน้าเว็บไซท์ เพื่อให้มันอ่าน code ของหน้าเว็บไซต์ทั้งหมด ที่ active อยู่"
   ]
  },
  {
   "cell_type": "code",
   "execution_count": 22,
   "metadata": {},
   "outputs": [],
   "source": [
    "driver.execute_script(\"document.body.style.zoom = '100%'\")"
   ]
  },
  {
   "cell_type": "markdown",
   "metadata": {},
   "source": [
    ".page_source ดึง html ของ browser ที่เปิดอยู่ (ทำให้ data เป็น text)"
   ]
  },
  {
   "cell_type": "code",
   "execution_count": 18,
   "metadata": {},
   "outputs": [],
   "source": [
    "data = driver.page_source"
   ]
  },
  {
   "cell_type": "code",
   "execution_count": 19,
   "metadata": {},
   "outputs": [
    {
     "name": "stdout",
     "output_type": "stream",
     "text": [
      "Requirement already satisfied: bs4 in c:\\users\\user\\anaconda3\\lib\\site-packages (0.0.1)\n",
      "Requirement already satisfied: beautifulsoup4 in c:\\users\\user\\anaconda3\\lib\\site-packages (from bs4) (4.9.3)\n",
      "Requirement already satisfied: soupsieve>1.2; python_version >= \"3.0\" in c:\\users\\user\\anaconda3\\lib\\site-packages (from beautifulsoup4->bs4) (2.0.1)\n"
     ]
    }
   ],
   "source": [
    "!pip install bs4"
   ]
  },
  {
   "cell_type": "code",
   "execution_count": 20,
   "metadata": {},
   "outputs": [],
   "source": [
    "import bs4"
   ]
  },
  {
   "cell_type": "markdown",
   "metadata": {},
   "source": [
    "เรียกใช้ BeautifulSoup เพื่อทำให้ก้อน html ที่เราดึงมาจาก .page_source กลายเป็น object เพื่อให้เราสามารถดึง html tags ที่เราต้องการได้ ซึ่งในที่นี้เราต้องการชื่อสินค้า ราคา rating และจำนวนผู้ให้คะแนน"
   ]
  },
  {
   "cell_type": "code",
   "execution_count": 134,
   "metadata": {},
   "outputs": [],
   "source": [
    "soup = bs4.BeautifulSoup(data)"
   ]
  },
  {
   "cell_type": "code",
   "execution_count": 40,
   "metadata": {},
   "outputs": [],
   "source": [
    "all_item = soup.find_all('div', {'class':'a-section a-spacing-small puis-padding-left-small puis-padding-right-small'})"
   ]
  },
  {
   "cell_type": "code",
   "execution_count": 234,
   "metadata": {},
   "outputs": [],
   "source": [
    "product_name = []\n",
    "price = []\n",
    "rating = []\n",
    "amount_votes = []\n",
    "\n",
    "for item in all_item:\n",
    "    all_product_name = item.find('span', {'class':'a-size-base-plus a-color-base a-text-normal'})\n",
    "    product_name.append(all_product_name.text)\n",
    "    all_price = item.find('span', {'aria-hidden':'true'})\n",
    "    price.append(all_price.text)\n",
    "    all_rating = item.find('span', {'class':'a-icon-alt'})\n",
    "    if all_rating == None:\n",
    "        all_rating = None\n",
    "    else:\n",
    "        all_rating = all_rating.text\n",
    "    rating.append(all_rating)\n",
    "    all_amount_votes = item.find('span', {'class':'a-size-base s-underline-text'})\n",
    "    if all_amount_votes == None:\n",
    "        all_amount_votes = None\n",
    "    else:\n",
    "        all_amount_votes = all_amount_votes.text\n",
    "    amount_votes.append(all_amount_votes)"
   ]
  },
  {
   "cell_type": "code",
   "execution_count": 98,
   "metadata": {},
   "outputs": [],
   "source": [
    "import pandas as pd"
   ]
  },
  {
   "cell_type": "markdown",
   "metadata": {},
   "source": [
    "จากนั้นนำ data ทั้งหมดที่เราขูดออกมาจากหน้าเว็บไซต์ดังกล่าวมาทำ DataFrame()"
   ]
  },
  {
   "cell_type": "code",
   "execution_count": 109,
   "metadata": {},
   "outputs": [],
   "source": [
    "women_dress = pd.DataFrame()"
   ]
  },
  {
   "cell_type": "code",
   "execution_count": 235,
   "metadata": {},
   "outputs": [],
   "source": [
    "women_dress['product_name'] = product_name\n",
    "women_dress['price'] = price\n",
    "women_dress['rating'] = rating\n",
    "women_dress['amount_votes'] = amount_votes"
   ]
  },
  {
   "cell_type": "code",
   "execution_count": 237,
   "metadata": {},
   "outputs": [
    {
     "data": {
      "text/plain": [
       "product_name    object\n",
       "price           object\n",
       "rating          object\n",
       "amount_votes    object\n",
       "dtype: object"
      ]
     },
     "execution_count": 237,
     "metadata": {},
     "output_type": "execute_result"
    }
   ],
   "source": [
    "women_dress.dtypes"
   ]
  },
  {
   "cell_type": "markdown",
   "metadata": {},
   "source": [
    "เรียกใช้ .str.replace() เพื่อทำการแทนที่สิ่งที่เราต้องการหรือ remove สิ่งที่ไม่ต้องการออกจาก data และเปลี่ยน data type โดยการเรียกใช้ pd.to_numeric() และกำหนด downcast = \" \" \n",
    "#### ถ้าเราต้องการเปลี่ยน string เป็น:\n",
    "- float --> downcast = \"Float\"\n",
    "- int --> downcast = \"integer\""
   ]
  },
  {
   "cell_type": "code",
   "execution_count": 238,
   "metadata": {},
   "outputs": [
    {
     "data": {
      "text/plain": [
       "product_name     object\n",
       "price           float32\n",
       "rating           object\n",
       "amount_votes     object\n",
       "dtype: object"
      ]
     },
     "execution_count": 238,
     "metadata": {},
     "output_type": "execute_result"
    }
   ],
   "source": [
    "women_dress['price'] = women_dress['price'].str.replace('$','')\n",
    "women_dress['price'] = pd.to_numeric(women_dress['price'], downcast=\"float\")\n",
    "women_dress.dtypes"
   ]
  },
  {
   "cell_type": "code",
   "execution_count": 245,
   "metadata": {},
   "outputs": [],
   "source": [
    "women_dress['rating'] = women_dress['rating'].str.replace('out of', '/')\n",
    "women_dress['rating'] = women_dress['rating'].str.replace('stars', '')"
   ]
  },
  {
   "cell_type": "code",
   "execution_count": 239,
   "metadata": {},
   "outputs": [],
   "source": [
    "women_dress['amount_votes'] = women_dress['amount_votes'].str.replace(',','')"
   ]
  },
  {
   "cell_type": "markdown",
   "metadata": {},
   "source": [
    "ต่อมาจะทำการเก็บ data ทั้งหมดลงใน csv file"
   ]
  },
  {
   "cell_type": "code",
   "execution_count": 249,
   "metadata": {},
   "outputs": [],
   "source": [
    "women_dress.to_csv('WomenDressAmazonDataset.csv',index=False) "
   ]
  }
 ],
 "metadata": {
  "kernelspec": {
   "display_name": "Python 3",
   "language": "python",
   "name": "python3"
  },
  "language_info": {
   "codemirror_mode": {
    "name": "ipython",
    "version": 3
   },
   "file_extension": ".py",
   "mimetype": "text/x-python",
   "name": "python",
   "nbconvert_exporter": "python",
   "pygments_lexer": "ipython3",
   "version": "3.8.5"
  }
 },
 "nbformat": 4,
 "nbformat_minor": 4
}
